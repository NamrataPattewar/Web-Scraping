{
 "cells": [
  {
   "cell_type": "code",
   "execution_count": 1,
   "id": "bdc524c4",
   "metadata": {},
   "outputs": [],
   "source": [
    "import requests\n",
    "from PyPDF2 import PdfReader\n",
    "import sqlite3"
   ]
  },
  {
   "cell_type": "code",
   "execution_count": 2,
   "id": "a165484d",
   "metadata": {},
   "outputs": [],
   "source": [
    "pdf_url = \"https://www.tax.nd.gov/sites/www/files/documents/guidelines/business/sales-use/guideline-exemptions.pdf\""
   ]
  },
  {
   "cell_type": "code",
   "execution_count": 3,
   "id": "d9721ff6",
   "metadata": {},
   "outputs": [
    {
     "name": "stdout",
     "output_type": "stream",
     "text": [
      "Data has been saved to extracted_data.db.\n"
     ]
    }
   ],
   "source": [
    "# Send an HTTP GET request to the PDF URL and download the file\n",
    "response = requests.get(pdf_url)\n",
    "with open(\"guideline-exemptions.pdf\", \"wb\") as pdf_file:\n",
    "    pdf_file.write(response.content)\n",
    "\n",
    "# Open the downloaded PDF file using PdfReader\n",
    "pdf_reader = PdfReader(\"guideline-exemptions.pdf\")\n",
    "\n",
    "extracted_text_list = []\n",
    "\n",
    "# Iterate through each page in the PDF\n",
    "for page in pdf_reader.pages:\n",
    "    extracted_text_list.append(page.extract_text())\n",
    "    \n",
    "# Define the SQLite database file name\n",
    "db_file_name = \"extracted_data.db\"\n",
    "\n",
    "# Connect to the SQLite database\n",
    "connection = sqlite3.connect(db_file_name)\n",
    "cursor = connection.cursor()\n",
    "\n",
    "# Create a table to store the extracted data\n",
    "cursor.execute('''CREATE TABLE IF NOT EXISTS extracted_data\n",
    "                  (page_number INTEGER PRIMARY KEY, extracted_text TEXT)''')\n",
    "\n",
    "# Insert the extracted data into the database\n",
    "for page_number, extracted_text in enumerate(extracted_text_list, start=1):\n",
    "    cursor.execute(\"INSERT INTO extracted_data (page_number, extracted_text) VALUES (?, ?)\", (page_number, extracted_text))\n",
    "\n",
    "# Commit the changes and close the database connection\n",
    "connection.commit()\n",
    "connection.close()\n",
    "\n",
    "print(f\"Data has been saved to {db_file_name}.\")"
   ]
  },
  {
   "cell_type": "code",
   "execution_count": null,
   "id": "37058502",
   "metadata": {},
   "outputs": [],
   "source": []
  }
 ],
 "metadata": {
  "kernelspec": {
   "display_name": "Python 3 (ipykernel)",
   "language": "python",
   "name": "python3"
  },
  "language_info": {
   "codemirror_mode": {
    "name": "ipython",
    "version": 3
   },
   "file_extension": ".py",
   "mimetype": "text/x-python",
   "name": "python",
   "nbconvert_exporter": "python",
   "pygments_lexer": "ipython3",
   "version": "3.11.4"
  }
 },
 "nbformat": 4,
 "nbformat_minor": 5
}
